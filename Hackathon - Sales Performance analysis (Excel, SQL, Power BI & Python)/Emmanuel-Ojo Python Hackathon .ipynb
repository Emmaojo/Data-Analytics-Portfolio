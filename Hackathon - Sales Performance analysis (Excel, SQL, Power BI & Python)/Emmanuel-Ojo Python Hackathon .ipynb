{
 "cells": [
  {
   "cell_type": "code",
   "execution_count": 2,
   "id": "fff60a8f-0ddf-424a-830b-dc8c9751002c",
   "metadata": {},
   "outputs": [
    {
     "name": "stdout",
     "output_type": "stream",
     "text": [
      " Welcome! Let's Test how well you Know Nigeria\n"
     ]
    },
    {
     "name": "stdin",
     "output_type": "stream",
     "text": [
      "Enter your name:  Emma\n"
     ]
    },
    {
     "name": "stdout",
     "output_type": "stream",
     "text": [
      "\n",
      " Question 1: What is the capital of Nigeria?\n",
      "A. Abuja  B. Lagos  C. Kano\n"
     ]
    },
    {
     "name": "stdin",
     "output_type": "stream",
     "text": [
      "Your answer (A/B/C):  a\n"
     ]
    },
    {
     "name": "stdout",
     "output_type": "stream",
     "text": [
      "Correct!\n",
      "\n",
      " Question 2: What currency is spent in Nigeria?\n",
      "A. Naira  B. Pounds  C. Cefa\n"
     ]
    },
    {
     "name": "stdin",
     "output_type": "stream",
     "text": [
      "Your answer (A/B/C):  b\n"
     ]
    },
    {
     "name": "stdout",
     "output_type": "stream",
     "text": [
      "Wrong!\n",
      "Options: Retry, Skip, Quit\n"
     ]
    },
    {
     "name": "stdin",
     "output_type": "stream",
     "text": [
      "What do you want to do?  r\n"
     ]
    },
    {
     "name": "stdout",
     "output_type": "stream",
     "text": [
      "Invalid choice, skipping question by default.\n",
      "\n",
      " Question 3: How many states do we have in Nigeria?\n",
      "A. 40 B. 28  C. 36\n"
     ]
    },
    {
     "name": "stdin",
     "output_type": "stream",
     "text": [
      "Your answer (A/B/C):  c\n"
     ]
    },
    {
     "name": "stdout",
     "output_type": "stream",
     "text": [
      "Correct!\n",
      "\n",
      " Question 4: How many Geo-Political Zones do we have in Nigeria?\n",
      "A. 5  B. 10  C. 6\n"
     ]
    },
    {
     "name": "stdin",
     "output_type": "stream",
     "text": [
      "Your answer (A/B/C):  b\n"
     ]
    },
    {
     "name": "stdout",
     "output_type": "stream",
     "text": [
      "Wrong!\n",
      "Options: Retry, Skip, Quit\n"
     ]
    },
    {
     "name": "stdin",
     "output_type": "stream",
     "text": [
      "What do you want to do?  retry\n"
     ]
    },
    {
     "name": "stdout",
     "output_type": "stream",
     "text": [
      "\n",
      " Question 4: How many Geo-Political Zones do we have in Nigeria?\n",
      "A. 5  B. 10  C. 6\n"
     ]
    },
    {
     "name": "stdin",
     "output_type": "stream",
     "text": [
      "Your answer (A/B/C):  6\n"
     ]
    },
    {
     "name": "stdout",
     "output_type": "stream",
     "text": [
      "Wrong!\n",
      "Options: Retry, Skip, Quit\n"
     ]
    },
    {
     "name": "stdin",
     "output_type": "stream",
     "text": [
      "What do you want to do?  a\n"
     ]
    },
    {
     "name": "stdout",
     "output_type": "stream",
     "text": [
      "Invalid choice, skipping question by default.\n",
      "\n",
      " Question 5: Who is the present president of Nigeria?\n",
      "A. Peter-Obi B. Tinubu  C. Buhari\n"
     ]
    },
    {
     "name": "stdin",
     "output_type": "stream",
     "text": [
      "Your answer (A/B/C):  B\n"
     ]
    },
    {
     "name": "stdout",
     "output_type": "stream",
     "text": [
      "Correct!\n",
      "\n",
      " Question 6: What continent can we find Nigeria?\n",
      "A. Asia B. Africa C. Europe\n"
     ]
    },
    {
     "name": "stdin",
     "output_type": "stream",
     "text": [
      "Your answer (A/B/C):  B\n"
     ]
    },
    {
     "name": "stdout",
     "output_type": "stream",
     "text": [
      "Correct!\n",
      "\n",
      " Question 7: What continent can we find Nigeria?\n",
      "A. Asia B. Africa C. Europe\n"
     ]
    },
    {
     "name": "stdin",
     "output_type": "stream",
     "text": [
      "Your answer (A/B/C):  B\n"
     ]
    },
    {
     "name": "stdout",
     "output_type": "stream",
     "text": [
      "Correct!\n",
      "\n",
      " Question 8: Lagos state can be found where\n",
      "A. South B. East  C. North\n"
     ]
    },
    {
     "name": "stdin",
     "output_type": "stream",
     "text": [
      "Your answer (A/B/C):  A\n"
     ]
    },
    {
     "name": "stdout",
     "output_type": "stream",
     "text": [
      "Wrong!\n",
      "Options: Retry, Skip, Quit\n"
     ]
    },
    {
     "name": "stdin",
     "output_type": "stream",
     "text": [
      "What do you want to do?  A\n"
     ]
    },
    {
     "name": "stdout",
     "output_type": "stream",
     "text": [
      "Invalid choice, skipping question by default.\n",
      "\n",
      " Question 9: Which of these colours is not part of the Nigerian Flag?\n",
      "A. Green  B. Red  C. White\n"
     ]
    },
    {
     "name": "stdin",
     "output_type": "stream",
     "text": [
      "Your answer (A/B/C):  B\n"
     ]
    },
    {
     "name": "stdout",
     "output_type": "stream",
     "text": [
      "Correct!\n",
      "\n",
      " Question 10: What year did Nigeria gain independence?\n",
      "A. 1908  B. 1963  C. 1960\n"
     ]
    },
    {
     "name": "stdin",
     "output_type": "stream",
     "text": [
      "Your answer (A/B/C):  C\n"
     ]
    },
    {
     "name": "stdout",
     "output_type": "stream",
     "text": [
      "Correct!\n",
      "\n",
      "Quiz Completed!\n",
      "Emma, Your final score is 7 out of 10\n"
     ]
    }
   ],
   "source": [
    "# Interactive Quiz App\n",
    "# Step 1: Set up the quiz questions\n",
    "# We create a list of dictionaries. Each dictionary represents one question.\n",
    "\n",
    "quiz = [\n",
    "    {\n",
    "        \"question\": \"What is the capital of Nigeria?\",\n",
    "        \"options\": \"A. Abuja  B. Lagos  C. Kano\",\n",
    "        \"answer\": \"A\"\n",
    "    },\n",
    "    {\n",
    "        \"question\": \"What currency is spent in Nigeria?\",\n",
    "        \"options\": \"A. Naira  B. Pounds  C. Cefa\",\n",
    "        \"answer\": \"A\"\n",
    "    },\n",
    "    {\n",
    "        \"question\": \"How many states do we have in Nigeria?\",\n",
    "        \"options\": \"A. 40 B. 28  C. 36\",\n",
    "        \"answer\": \"C\"\n",
    "    },\n",
    "\n",
    "    {\n",
    "        \"question\": \"How many Geo-Political Zones do we have in Nigeria?\",\n",
    "        \"options\": \"A. 5  B. 10  C. 6\",\n",
    "        \"answer\": \"C\"\n",
    "    },\n",
    "\n",
    "     {\n",
    "        \"question\": \"Who is the present president of Nigeria?\",\n",
    "        \"options\": \"A. Peter-Obi B. Tinubu  C. Buhari\",\n",
    "        \"answer\": \"B\"\n",
    "    },\n",
    "      {\n",
    "        \"question\": \"What continent can we find Nigeria?\",\n",
    "        \"options\": \"A. Asia B. Africa C. Europe\",\n",
    "        \"answer\": \"B\"\n",
    "    },\n",
    "         {\n",
    "        \"question\": \"What continent can we find Nigeria?\",\n",
    "        \"options\": \"A. Asia B. Africa C. Europe\",\n",
    "        \"answer\": \"B\"\n",
    "    },\n",
    "    \n",
    "    {\n",
    "        \"question\": \"Lagos state can be found where\",\n",
    "        \"options\": \"A. South B. West  C. North\",\n",
    "        \"answer\": \"B\"\n",
    "    },\n",
    "    \n",
    "    {\n",
    "        \"question\": \"Which of these colours is not part of the Nigerian Flag?\",\n",
    "        \"options\": \"A. Green  B. Red  C. White\",\n",
    "        \"answer\": \"B\"\n",
    "    },\n",
    "   \n",
    "    {\n",
    "        \"question\": \"What year did Nigeria gain independence?\",\n",
    "        \"options\": \"A. 1908  B. 1963  C. 1960\",\n",
    "        \"answer\": \"C\"\n",
    "    },\n",
    "    ]\n",
    "\n",
    "\n",
    "\n",
    "# Start the Quiz\n",
    "print(\" Welcome! Let's Test how well you Know Nigeria\")\n",
    "name = input(\"Enter your name: \")\n",
    "# Set scorecount for the for loop\n",
    "score = 0\n",
    "# Set a count for the total number of questions\n",
    "question_Count = len(quiz) \n",
    "# Set a count for the for loop\n",
    "index = 0\n",
    "\n",
    "# Using the While Loop, to loop through quiz questions\n",
    "while index < question_Count:\n",
    "    x = quiz[index]\n",
    "    print(f\"\\n Question {index + 1}: {x ['question']}\")\n",
    "    print(x[\"options\"])\n",
    "\n",
    "    answer = input(\"Your answer (A/B/C): \").strip().upper()\n",
    "\n",
    "    if answer == x[\"answer\"]:\n",
    "        print(\"Correct!\")\n",
    "        score += 1\n",
    "        index += 1\n",
    "    else:\n",
    "        print(\"Wrong!\")\n",
    "        print(\"Options: Retry, Skip, Quit\")\n",
    "        next_action = input(\"What do you want to do? \").strip().capitalize()\n",
    "\n",
    "        if next_action == \"Retry\":\n",
    "            continue\n",
    "        elif next_action == \"Skip\":\n",
    "            index += 1\n",
    "        elif next_action == \"Quit\":\n",
    "            break\n",
    "        else:\n",
    "            print(\"Invalid choice, skipping question by default.\")\n",
    "            index += 1\n",
    "\n",
    "# End the quiz\n",
    "print(\"\\nQuiz Completed!\")\n",
    "print(f\"{name}, Your final score is {score} out of {question_Count}\")"
   ]
  },
  {
   "cell_type": "code",
   "execution_count": null,
   "id": "ab0f3472-7d5d-4034-a7f7-7163b7db9f8b",
   "metadata": {},
   "outputs": [],
   "source": []
  }
 ],
 "metadata": {
  "kernelspec": {
   "display_name": "Python 3 (ipykernel)",
   "language": "python",
   "name": "python3"
  },
  "language_info": {
   "codemirror_mode": {
    "name": "ipython",
    "version": 3
   },
   "file_extension": ".py",
   "mimetype": "text/x-python",
   "name": "python",
   "nbconvert_exporter": "python",
   "pygments_lexer": "ipython3",
   "version": "3.12.7"
  }
 },
 "nbformat": 4,
 "nbformat_minor": 5
}
